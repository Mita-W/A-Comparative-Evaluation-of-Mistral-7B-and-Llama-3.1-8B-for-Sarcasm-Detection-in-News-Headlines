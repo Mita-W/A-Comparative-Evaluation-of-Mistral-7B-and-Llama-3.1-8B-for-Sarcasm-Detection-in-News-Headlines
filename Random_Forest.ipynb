{
  "nbformat": 4,
  "nbformat_minor": 0,
  "metadata": {
    "colab": {
      "provenance": [],
      "machine_shape": "hm",
      "gpuType": "A100"
    },
    "kernelspec": {
      "name": "python3",
      "display_name": "Python 3"
    },
    "language_info": {
      "name": "python"
    },
    "accelerator": "GPU"
  },
  "cells": [
    {
      "cell_type": "markdown",
      "source": [
        "#Random Forest"
      ],
      "metadata": {
        "id": "p9Pz0v5LuZrg"
      }
    },
    {
      "cell_type": "code",
      "source": [
        "import numpy as np\n",
        "import pandas as pd"
      ],
      "metadata": {
        "id": "pupFp9Y9uZbV"
      },
      "execution_count": null,
      "outputs": []
    },
    {
      "cell_type": "code",
      "source": [
        "import pandas as pd\n",
        "import string\n",
        "from nltk.corpus import stopwords\n",
        "from sklearn.feature_extraction.text import CountVectorizer\n",
        "\n",
        "# Load your training and testing datasets\n",
        "train_df = pd.read_csv('/content/training_sarcasm.csv')\n",
        "test_df = pd.read_csv('/content/testing_sarcasm.csv')\n",
        "\n",
        "del train_df['article_link']\n",
        "del test_df['article_link']\n",
        "\n",
        "# Extract the 'headline' and 'is_sarcastic' columns\n",
        "x_train = train_df['headline'].values\n",
        "y_train = train_df['is_sarcastic'].values\n",
        "\n",
        "x_test = test_df['headline'].values\n",
        "y_test = test_df['is_sarcastic'].values\n",
        "\n",
        "# Function to remove punctuation and convert to lowercase\n",
        "def remove_punct_and_lowercase(text):\n",
        "    punct = string.punctuation\n",
        "    cleaned_text = []\n",
        "    for word in text:\n",
        "        sent = ''\n",
        "        for char in word:\n",
        "            if char not in punct:\n",
        "                char = char.lower()\n",
        "                sent += char\n",
        "        cleaned_text.append(sent)\n",
        "    return cleaned_text\n",
        "\n",
        "# Remove punctuation and convert to lowercase\n",
        "cleaned_x_train = remove_punct_and_lowercase(x_train)\n",
        "cleaned_x_test = remove_punct_and_lowercase(x_test)\n",
        "\n",
        "# Download the 'stopwords' dataset\n",
        "import nltk\n",
        "nltk.download('stopwords')\n",
        "\n",
        "# Function to remove stopwords\n",
        "def remove_stopwords(text):\n",
        "    stops = set(stopwords.words('english'))\n",
        "    cleaned_text = []\n",
        "    for sent in text:\n",
        "        sent_cleaned = ''\n",
        "        for word in sent.split():\n",
        "            if word not in stops:\n",
        "                sent_cleaned += word\n",
        "                sent_cleaned += ' '\n",
        "        cleaned_text.append(sent_cleaned.strip())\n",
        "    return cleaned_text\n",
        "\n",
        "# Remove stopwords\n",
        "cleaned_x_train = remove_stopwords(cleaned_x_train)\n",
        "cleaned_x_test = remove_stopwords(cleaned_x_test)\n",
        "\n",
        "# Vectorize the text data\n",
        "vectorizer = CountVectorizer(max_features=1000)\n",
        "vectorizer.fit(cleaned_x_train)  # Fit only on the training data\n",
        "\n",
        "x_train_vec = vectorizer.transform(cleaned_x_train)\n",
        "x_test_vec = vectorizer.transform(cleaned_x_test)\n",
        "\n",
        "# Now you can use x_train_vec, y_train, x_test_vec, y_test for training and evaluating your model"
      ],
      "metadata": {
        "colab": {
          "base_uri": "https://localhost:8080/"
        },
        "id": "6JegNHZnjBEN",
        "outputId": "2cab33fd-6b40-4650-8d09-66c2c6e528cd"
      },
      "execution_count": null,
      "outputs": [
        {
          "output_type": "stream",
          "name": "stderr",
          "text": [
            "[nltk_data] Downloading package stopwords to /root/nltk_data...\n",
            "[nltk_data]   Package stopwords is already up-to-date!\n"
          ]
        }
      ]
    },
    {
      "cell_type": "code",
      "source": [
        "from sklearn.feature_extraction.text import CountVectorizer"
      ],
      "metadata": {
        "id": "lBhUNMGKwNnw"
      },
      "execution_count": null,
      "outputs": []
    },
    {
      "cell_type": "code",
      "source": [
        "from sklearn.ensemble import RandomForestClassifier\n",
        "from sklearn.metrics import accuracy_score, confusion_matrix, classification_report\n",
        "\n",
        "# Initialize the RandomForestClassifier\n",
        "rfc = RandomForestClassifier(n_estimators=500, random_state=42)\n",
        "\n",
        "# Train the model on the training data\n",
        "rfc.fit(x_train_vec, y_train)  # Use the vectorized training data (x_train_vec)\n",
        "\n",
        "# Make predictions on the test data\n",
        "preds = rfc.predict(x_test_vec)  # Use the vectorized test data (x_test_vec)\n",
        "\n",
        "# Evaluate the model\n",
        "print('Accuracy:', accuracy_score(y_test, preds))\n",
        "print('Confusion Matrix:\\n', confusion_matrix(y_test, preds))\n",
        "print('Classification Report:\\n', classification_report(y_test, preds))"
      ],
      "metadata": {
        "colab": {
          "base_uri": "https://localhost:8080/"
        },
        "id": "le-iMbCaje8u",
        "outputId": "61476fd7-07aa-464e-ae77-eed11d138931"
      },
      "execution_count": null,
      "outputs": [
        {
          "output_type": "stream",
          "name": "stdout",
          "text": [
            "Accuracy: 0.678\n",
            "Confusion Matrix:\n",
            " [[717 283]\n",
            " [361 639]]\n",
            "Classification Report:\n",
            "               precision    recall  f1-score   support\n",
            "\n",
            "           0       0.67      0.72      0.69      1000\n",
            "           1       0.69      0.64      0.66      1000\n",
            "\n",
            "    accuracy                           0.68      2000\n",
            "   macro avg       0.68      0.68      0.68      2000\n",
            "weighted avg       0.68      0.68      0.68      2000\n",
            "\n"
          ]
        }
      ]
    },
    {
      "cell_type": "markdown",
      "source": [
        "#TF-IDF"
      ],
      "metadata": {
        "id": "OQdzUE7bjpjH"
      }
    },
    {
      "cell_type": "code",
      "source": [
        "from sklearn.feature_extraction.text import TfidfVectorizer\n",
        "from sklearn.ensemble import RandomForestClassifier\n",
        "from sklearn.metrics import accuracy_score, confusion_matrix, classification_report\n",
        "\n",
        "# Step 1: Initialize the TF-IDF Vectorizer\n",
        "tfidf_vectorizer = TfidfVectorizer(max_features=1000, stop_words='english')\n",
        "\n",
        "# Step 2: Fit and transform the training data\n",
        "x_train_tfidf = tfidf_vectorizer.fit_transform(cleaned_x_train)  # Fit on training data\n",
        "\n",
        "# Step 3: Transform the test data (DO NOT fit on test data)\n",
        "x_test_tfidf = tfidf_vectorizer.transform(cleaned_x_test)\n",
        "\n",
        "# Step 4: Initialize and train the RandomForestClassifier\n",
        "rfc = RandomForestClassifier(n_estimators=500, random_state=42)\n",
        "rfc.fit(x_train_tfidf, y_train)  # Train on TF-IDF transformed training data\n",
        "\n",
        "# Step 5: Make predictions on the test data\n",
        "preds = rfc.predict(x_test_tfidf)\n",
        "\n",
        "# Step 6: Evaluate the model\n",
        "print('Accuracy:', accuracy_score(y_test, preds))\n",
        "print('Confusion Matrix:\\n', confusion_matrix(y_test, preds))\n",
        "print('Classification Report:\\n', classification_report(y_test, preds))"
      ],
      "metadata": {
        "colab": {
          "base_uri": "https://localhost:8080/"
        },
        "id": "X799cZ-MjyOS",
        "outputId": "a861e31d-b98a-4729-c2e5-f9b929c5b045"
      },
      "execution_count": null,
      "outputs": [
        {
          "output_type": "stream",
          "name": "stdout",
          "text": [
            "Accuracy: 0.696\n",
            "Confusion Matrix:\n",
            " [[738 262]\n",
            " [346 654]]\n",
            "Classification Report:\n",
            "               precision    recall  f1-score   support\n",
            "\n",
            "           0       0.68      0.74      0.71      1000\n",
            "           1       0.71      0.65      0.68      1000\n",
            "\n",
            "    accuracy                           0.70      2000\n",
            "   macro avg       0.70      0.70      0.70      2000\n",
            "weighted avg       0.70      0.70      0.70      2000\n",
            "\n"
          ]
        }
      ]
    }
  ]
}